{
 "cells": [
  {
   "cell_type": "code",
   "execution_count": 1,
   "metadata": {},
   "outputs": [],
   "source": [
    "import glob\n",
    "import numpy as np\n",
    "import pandas as pd\n",
    "\n",
    "import altair as alt\n",
    "import matplotlib.pyplot as plt\n",
    "import seaborn as sns\n",
    "%matplotlib inline\n",
    "\n",
    "pd.set_option(\"display.max_columns\", 100)\n",
    "pd.set_option(\"display.max_rows\", 100)\n",
    "\n",
    "from lightgbm import LGBMClassifier\n",
    "from sklearn.linear_model import LogisticRegression\n",
    "from sklearn.ensemble import RandomForestClassifier\n",
    "\n",
    "from sklearn.compose import ColumnTransformer\n",
    "from sklearn.feature_selection import RFE, SelectFromModel\n",
    "from sklearn.model_selection import train_test_split, RandomizedSearchCV, cross_validate, GridSearchCV\n",
    "from sklearn.pipeline import make_pipeline, Pipeline\n",
    "from sklearn.preprocessing import StandardScaler, OneHotEncoder, MinMaxScaler\n",
    "\n",
    "import shap"
   ]
  },
  {
   "cell_type": "code",
   "execution_count": 2,
   "metadata": {},
   "outputs": [
    {
     "name": "stderr",
     "output_type": "stream",
     "text": [
      "Using TensorFlow backend.\n"
     ]
    }
   ],
   "source": [
    "from keras.models import Sequential\n",
    "from keras import utils\n",
    "from keras.layers import LSTM, Dense, Dropout\n",
    "import sys\n",
    "np.set_printoptions(threshold=sys.maxsize)"
   ]
  },
  {
   "cell_type": "code",
   "execution_count": 3,
   "metadata": {},
   "outputs": [],
   "source": [
    "# Read data\n",
    "# ---- not concating here in case we want to take a look at a particular date later on\n",
    "\n",
    "file_names = dict()\n",
    "for file in glob.glob('../data/*.csv'):\n",
    "    file_name = file[(file.rfind(\"/\") + 1):(file.rfind(\".\"))].replace(\"-\", \"_\")\n",
    "    file_names[file_name] = pd.read_csv(file, parse_dates = [\"DateTime\"])\n",
    "    \n",
    "# Concat data\n",
    "\n",
    "data = []\n",
    "for key in sorted(file_names):\n",
    "    data.append(file_names[key])\n",
    "data = pd.concat(data).drop(columns = [\"index\"])"
   ]
  },
  {
   "cell_type": "code",
   "execution_count": 4,
   "metadata": {},
   "outputs": [
    {
     "data": {
      "text/plain": [
       "True"
      ]
     },
     "execution_count": 4,
     "metadata": {},
     "output_type": "execute_result"
    }
   ],
   "source": [
    "train_len = int(data.shape[0] * 0.7 * 0.8) + 1\n",
    "valid_len = int(data.shape[0] * 0.7 * 0.2)\n",
    "test_len = int(data.shape[0] * 0.3)\n",
    "\n",
    "train_len+valid_len+test_len == data.shape[0]"
   ]
  },
  {
   "cell_type": "code",
   "execution_count": 36,
   "metadata": {},
   "outputs": [],
   "source": [
    "nn_data = data.copy()\n",
    "nn_data[\"trend\"] = np.where(nn_data[\"trend\"]==\"up\", 1, 0)\n",
    "X_nn, y_nn = nn_data.drop(columns=[\"DateTime\", \"trend\"]), nn_data[\"trend\"].to_numpy().ravel()\n",
    "X_train_nn, y_train_nn, X_valid_nn, y_valid_nn = [], [], [], []\n",
    "\n",
    "seq_len = 30\n",
    "pred_period = 0\n",
    "\n",
    "for i in range(seq_len, train_len-pred_period):\n",
    "    X_train_nn.append(np.array(X_nn[i-seq_len:i]))\n",
    "    y_train_nn.append(y_nn[i+pred_period])\n",
    "\n",
    "X_train_nn, y_train_nn = np.array(X_train_nn), np.array(y_train_nn)\n",
    "\n",
    "for i in range(train_len+seq_len, train_len+valid_len-pred_period):\n",
    "    X_valid_nn.append(np.array(X_nn[i-seq_len:i]))\n",
    "    y_valid_nn.append(y_nn[i+pred_period])\n",
    "\n",
    "X_valid_nn, y_valid_nn = np.array(X_valid_nn), np.array(y_valid_nn)"
   ]
  },
  {
   "cell_type": "code",
   "execution_count": 39,
   "metadata": {},
   "outputs": [
    {
     "data": {
      "text/plain": [
       "(48760, 30, 62)"
      ]
     },
     "execution_count": 39,
     "metadata": {},
     "output_type": "execute_result"
    }
   ],
   "source": [
    "X_train_nn.shape"
   ]
  },
  {
   "cell_type": "code",
   "execution_count": 41,
   "metadata": {},
   "outputs": [
    {
     "name": "stdout",
     "output_type": "stream",
     "text": [
      "Epoch 1/4\n",
      "48760/48760 [==============================] - 23s 476us/step - loss: 0.6853 - accuracy: 0.5456\n",
      "Epoch 2/4\n",
      "48760/48760 [==============================] - 18s 379us/step - loss: 0.6744 - accuracy: 0.5662\n",
      "Epoch 3/4\n",
      "48760/48760 [==============================] - 20s 401us/step - loss: 0.6652 - accuracy: 0.5939\n",
      "Epoch 4/4\n",
      "48760/48760 [==============================] - 19s 386us/step - loss: 0.6552 - accuracy: 0.6166\n"
     ]
    },
    {
     "data": {
      "text/plain": [
       "<keras.callbacks.callbacks.History at 0x2daa046d0>"
      ]
     },
     "execution_count": 41,
     "metadata": {},
     "output_type": "execute_result"
    }
   ],
   "source": [
    "stock_nn = Sequential()\n",
    "\n",
    "stock_nn.add(LSTM(units=32, return_sequences=True,\n",
    "                  input_shape=X_train_nn.shape[-2:], dropout=0.2))\n",
    "\n",
    "stock_nn.add(LSTM(32, return_sequences=True))\n",
    "stock_nn.add(LSTM(32, return_sequences=True))\n",
    "stock_nn.add(LSTM(32, return_sequences=False))\n",
    "\n",
    "stock_nn.add(Dense(1, activation='sigmoid'))\n",
    "\n",
    "stock_nn.compile(optimizer='adam', loss='binary_crossentropy', metrics=['accuracy'])\n",
    "\n",
    "stock_nn.fit(X_train_nn, y_train_nn, epochs=4, batch_size=200, verbose=1)\n"
   ]
  },
  {
   "cell_type": "code",
   "execution_count": null,
   "metadata": {},
   "outputs": [],
   "source": []
  }
 ],
 "metadata": {
  "kernelspec": {
   "display_name": "Python 3",
   "language": "python",
   "name": "python3"
  },
  "language_info": {
   "codemirror_mode": {
    "name": "ipython",
    "version": 3
   },
   "file_extension": ".py",
   "mimetype": "text/x-python",
   "name": "python",
   "nbconvert_exporter": "python",
   "pygments_lexer": "ipython3",
   "version": "3.7.6"
  }
 },
 "nbformat": 4,
 "nbformat_minor": 4
}
